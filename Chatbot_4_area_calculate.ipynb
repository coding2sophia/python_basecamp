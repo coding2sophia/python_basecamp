{
 "cells": [
  {
   "cell_type": "code",
   "execution_count": 1,
   "id": "ba52d533",
   "metadata": {},
   "outputs": [
    {
     "name": "stdout",
     "output_type": "stream",
     "text": [
      "caculate area\n"
     ]
    }
   ],
   "source": [
    "print('caculate area')"
   ]
  },
  {
   "cell_type": "code",
   "execution_count": 20,
   "id": "011ce9be",
   "metadata": {},
   "outputs": [
    {
     "name": "stdout",
     "output_type": "stream",
     "text": [
      "what is the length?20\n"
     ]
    }
   ],
   "source": [
    "length=input('what is the length?')"
   ]
  },
  {
   "cell_type": "code",
   "execution_count": 21,
   "id": "bf7d3ebd",
   "metadata": {},
   "outputs": [
    {
     "data": {
      "text/plain": [
       "'20'"
      ]
     },
     "execution_count": 21,
     "metadata": {},
     "output_type": "execute_result"
    }
   ],
   "source": [
    "length"
   ]
  },
  {
   "cell_type": "code",
   "execution_count": 22,
   "id": "21219680",
   "metadata": {},
   "outputs": [
    {
     "data": {
      "text/plain": [
       "str"
      ]
     },
     "execution_count": 22,
     "metadata": {},
     "output_type": "execute_result"
    }
   ],
   "source": [
    "type (length)"
   ]
  },
  {
   "cell_type": "code",
   "execution_count": 19,
   "id": "565f478f",
   "metadata": {},
   "outputs": [
    {
     "name": "stdout",
     "output_type": "stream",
     "text": [
      "what is the width?30\n"
     ]
    }
   ],
   "source": [
    "width=input('what is the width?')"
   ]
  },
  {
   "cell_type": "code",
   "execution_count": 23,
   "id": "f040f311",
   "metadata": {},
   "outputs": [
    {
     "data": {
      "text/plain": [
       "str"
      ]
     },
     "execution_count": 23,
     "metadata": {},
     "output_type": "execute_result"
    }
   ],
   "source": [
    "type(width)"
   ]
  },
  {
   "cell_type": "code",
   "execution_count": 24,
   "id": "46108253",
   "metadata": {},
   "outputs": [
    {
     "data": {
      "text/plain": [
       "'30'"
      ]
     },
     "execution_count": 24,
     "metadata": {},
     "output_type": "execute_result"
    }
   ],
   "source": [
    "width"
   ]
  },
  {
   "cell_type": "code",
   "execution_count": 27,
   "id": "c56c7396",
   "metadata": {},
   "outputs": [],
   "source": [
    "length=float(length)"
   ]
  },
  {
   "cell_type": "code",
   "execution_count": 28,
   "id": "5b49c4ac",
   "metadata": {},
   "outputs": [
    {
     "data": {
      "text/plain": [
       "20.0"
      ]
     },
     "execution_count": 28,
     "metadata": {},
     "output_type": "execute_result"
    }
   ],
   "source": [
    "length"
   ]
  },
  {
   "cell_type": "code",
   "execution_count": 29,
   "id": "e40df07b",
   "metadata": {},
   "outputs": [],
   "source": [
    "width=float(width)"
   ]
  },
  {
   "cell_type": "code",
   "execution_count": 30,
   "id": "8df2852c",
   "metadata": {},
   "outputs": [
    {
     "data": {
      "text/plain": [
       "30.0"
      ]
     },
     "execution_count": 30,
     "metadata": {},
     "output_type": "execute_result"
    }
   ],
   "source": [
    "width"
   ]
  },
  {
   "cell_type": "code",
   "execution_count": 31,
   "id": "47c76d91",
   "metadata": {},
   "outputs": [],
   "source": [
    "area=length*width"
   ]
  },
  {
   "cell_type": "code",
   "execution_count": 32,
   "id": "8cf6a394",
   "metadata": {},
   "outputs": [
    {
     "data": {
      "text/plain": [
       "600.0"
      ]
     },
     "execution_count": 32,
     "metadata": {},
     "output_type": "execute_result"
    }
   ],
   "source": [
    "area"
   ]
  },
  {
   "cell_type": "code",
   "execution_count": 40,
   "id": "7e0cd359",
   "metadata": {},
   "outputs": [
    {
     "name": "stdout",
     "output_type": "stream",
     "text": [
      "area is width 30.0 times length 20.0 equals 600.0\n"
     ]
    }
   ],
   "source": [
    "print('area is width', width, 'times length', length, 'equals',area)"
   ]
  },
  {
   "cell_type": "code",
   "execution_count": null,
   "id": "fedfd919",
   "metadata": {},
   "outputs": [],
   "source": []
  }
 ],
 "metadata": {
  "kernelspec": {
   "display_name": "Python 3 (ipykernel)",
   "language": "python",
   "name": "python3"
  },
  "language_info": {
   "codemirror_mode": {
    "name": "ipython",
    "version": 3
   },
   "file_extension": ".py",
   "mimetype": "text/x-python",
   "name": "python",
   "nbconvert_exporter": "python",
   "pygments_lexer": "ipython3",
   "version": "3.9.12"
  }
 },
 "nbformat": 4,
 "nbformat_minor": 5
}
