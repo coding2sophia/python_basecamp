{
 "cells": [
  {
   "cell_type": "code",
   "execution_count": 1,
   "id": "4752794c",
   "metadata": {},
   "outputs": [
    {
     "name": "stdout",
     "output_type": "stream",
     "text": [
      "welcome python class\n"
     ]
    }
   ],
   "source": [
    "print('welcome python class')"
   ]
  },
  {
   "cell_type": "code",
   "execution_count": 2,
   "id": "5a05a7a8",
   "metadata": {},
   "outputs": [
    {
     "name": "stdout",
     "output_type": "stream",
     "text": [
      "what is your name?Sophia\n"
     ]
    }
   ],
   "source": [
    "name = input('what is your name?')"
   ]
  },
  {
   "cell_type": "code",
   "execution_count": 3,
   "id": "121b5411",
   "metadata": {},
   "outputs": [
    {
     "name": "stdout",
     "output_type": "stream",
     "text": [
      "my name is  Sophia\n"
     ]
    }
   ],
   "source": [
    "print('my name is ', name)"
   ]
  },
  {
   "cell_type": "code",
   "execution_count": 5,
   "id": "e5119535",
   "metadata": {},
   "outputs": [
    {
     "name": "stdout",
     "output_type": "stream",
     "text": [
      "how old are you?8\n"
     ]
    }
   ],
   "source": [
    "age = input('how old are you?')"
   ]
  },
  {
   "cell_type": "code",
   "execution_count": 9,
   "id": "b7440d0e",
   "metadata": {},
   "outputs": [
    {
     "name": "stdout",
     "output_type": "stream",
     "text": [
      "I am 8 year old\n"
     ]
    }
   ],
   "source": [
    "print('I am', age,'year old')"
   ]
  },
  {
   "cell_type": "code",
   "execution_count": 10,
   "id": "9bc06855",
   "metadata": {},
   "outputs": [
    {
     "name": "stdout",
     "output_type": "stream",
     "text": [
      "what is your favorite sport?tennis\n"
     ]
    }
   ],
   "source": [
    "sport = input('what is your favorite sport?')"
   ]
  },
  {
   "cell_type": "code",
   "execution_count": 11,
   "id": "8b919f4b",
   "metadata": {},
   "outputs": [
    {
     "name": "stdout",
     "output_type": "stream",
     "text": [
      "my favorite sport is tennis\n"
     ]
    }
   ],
   "source": [
    "print('my favorite sport is', sport)"
   ]
  },
  {
   "cell_type": "code",
   "execution_count": 15,
   "id": "5fa3e927",
   "metadata": {},
   "outputs": [
    {
     "name": "stdout",
     "output_type": "stream",
     "text": [
      "why do you like tennis ?\n"
     ]
    }
   ],
   "source": [
    "print('why do you like', sport,'?')"
   ]
  },
  {
   "cell_type": "code",
   "execution_count": 19,
   "id": "3344b04a",
   "metadata": {},
   "outputs": [
    {
     "name": "stdout",
     "output_type": "stream",
     "text": [
      "because tennis is fun.\n"
     ]
    }
   ],
   "source": [
    "print('because', sport, 'is fun.')"
   ]
  },
  {
   "cell_type": "code",
   "execution_count": null,
   "id": "4bdd9b89",
   "metadata": {},
   "outputs": [],
   "source": []
  }
 ],
 "metadata": {
  "kernelspec": {
   "display_name": "Python 3 (ipykernel)",
   "language": "python",
   "name": "python3"
  },
  "language_info": {
   "codemirror_mode": {
    "name": "ipython",
    "version": 3
   },
   "file_extension": ".py",
   "mimetype": "text/x-python",
   "name": "python",
   "nbconvert_exporter": "python",
   "pygments_lexer": "ipython3",
   "version": "3.9.12"
  }
 },
 "nbformat": 4,
 "nbformat_minor": 5
}
